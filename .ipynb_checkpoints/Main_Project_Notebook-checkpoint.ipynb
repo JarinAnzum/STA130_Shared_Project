{
 "cells": [
  {
   "cell_type": "markdown",
   "id": "6ef57656",
   "metadata": {},
   "source": [
    "## Main Theme (Same as Project Goal): Raising awareness about the relationship between social connection and well-being.\n"
   ]
  },
  {
   "cell_type": "markdown",
   "id": "5887184d",
   "metadata": {},
   "source": [
    "### Analysis 1: Social Interaction and Wellness\n",
    "\n",
    "##### Method: Linear Regression\n",
    "\n",
    "#### Independent Variable: Social (In-Person) Interaction\n",
    "\n",
    "Time Spent --> Sum\n",
    "\n",
    "CONNECTION_social_time_family_p7d\n",
    "CONNECTION_social_time_friends_p7d\n",
    "CONNECTION_social_time_coworkers_and_classmates_p7d\n",
    "CONNECTION_social_time_neighbours_p7d\n",
    "\n",
    "CONNECTION_preference_time_family\n",
    "CONNECTION_preference_time_friends\n",
    "CONNECTION_preference_time_coworkers_classmates\n",
    "CONNECTION_preference_time_neighbours\n",
    "\n",
    "#### Dependent Variable: Wellness\n",
    "\n",
    "WELLNESS_self_rated_mental_health\n",
    "WELLNESS_self_rated_physical_health\n",
    "WELLNESS_life_satisfaction\n",
    "WELLNESS_subjective_happiness_scale_happy\n",
    "\n",
    "(health_condition_or_disability) --> This is a binary True / False for whether they have, or are being treated for any illness."
   ]
  },
  {
   "cell_type": "markdown",
   "id": "0d4f8d7a",
   "metadata": {},
   "source": [
    "### Analysis 2: Social Activity and Wellness\n",
    "\n",
    "##### Method: Multiple Linear Regression\n",
    "\n",
    "#### Independent Variable: Social (In-Person) Interaction\n",
    "\n",
    "Time Spent on (Potentially) Social Activities. Consider changing to participation? Not all activities are necessarily social.\n",
    "\n",
    "LIFESTYLE_time_use_priorities_hobbies_actual\n",
    "LIFESTYLE_time_use_priorities_volunteering_actual\n",
    "LIFESTYLE_time_use_priorities_socials_actual\n",
    "LIFESTYLE_time_use_priorities_tv_actual\n",
    "\n",
    "LIFESTYLE_time_use_priorities_hobbies_desired\n",
    "LIFESTYLE_time_use_priorities_volunteering_desired\n",
    "LIFESTYLE_time_use_priorities_socials_desired\n",
    "LIFESTYLE_time_use_priorities_tv_desired\n",
    "\n",
    "#### Dependent Variable: Wellness\n",
    "\n",
    "WELLNESS_self_rated_mental_health\n",
    "WELLNESS_self_rated_physical_health\n",
    "WELLNESS_life_satisfaction\n",
    "WELLNESS_subjective_happiness_scale_happy\n",
    "\n",
    "(health_condition_or_disability) --> This is a binary True / False for whether they have, or are being treated for any illness."
   ]
  },
  {
   "cell_type": "markdown",
   "id": "e45d913d",
   "metadata": {},
   "source": [
    "### Analysis 3: {Insert Categorical Variable} and {Many Other Variables}\n",
    "\n",
    "##### Method: Bootstrapping\n",
    "Choose a categorical variable. Bootstrap every person from a category. Check other variables.\n",
    "\n",
    "Barriers, WORK_feel_fair"
   ]
  },
  {
   "cell_type": "code",
   "execution_count": null,
   "id": "ecb49204",
   "metadata": {},
   "outputs": [],
   "source": []
  }
 ],
 "metadata": {
  "kernelspec": {
   "display_name": "Python 3 (ipykernel)",
   "language": "python",
   "name": "python3"
  },
  "language_info": {
   "codemirror_mode": {
    "name": "ipython",
    "version": 3
   },
   "file_extension": ".py",
   "mimetype": "text/x-python",
   "name": "python",
   "nbconvert_exporter": "python",
   "pygments_lexer": "ipython3",
   "version": "3.11.6"
  }
 },
 "nbformat": 4,
 "nbformat_minor": 5
}
