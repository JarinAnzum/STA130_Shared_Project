{
 "cells": [
  {
   "cell_type": "markdown",
   "id": "749da7a2",
   "metadata": {},
   "source": [
    "#### Some Things To Do:\n",
    "\n",
    "The ______ survey was conducted _______(insert a rate here like quarterly, biannually) across ______(insert number of provinces) across Canada. The survey-takers ranged from ages ___-____. The data focused on a diverse group of individuals, ranging from:\n",
    "\n",
    "\n",
    "(Already know that the following are true):\n",
    "- Diverse qualities of life\n",
    "- Diverse health statuses\n",
    "\n",
    "(Verify whether the following are true):\n",
    "- Diverse racial identity?\n",
    "- From differe geographical areas?"
   ]
  },
  {
   "cell_type": "code",
   "execution_count": null,
   "id": "dcd7ac9d",
   "metadata": {},
   "outputs": [],
   "source": [
    "# Insert chart of age breakdown. \n",
    "# Perhaps a histogram or bar chart."
   ]
  },
  {
   "cell_type": "code",
   "execution_count": null,
   "id": "41bfe14a",
   "metadata": {},
   "outputs": [],
   "source": [
    "# Insert chart of racial identity breakdown. \n",
    "# Perhaps a bar chart or pie chart."
   ]
  }
 ],
 "metadata": {
  "kernelspec": {
   "display_name": "Python 3 (ipykernel)",
   "language": "python",
   "name": "python3"
  },
  "language_info": {
   "codemirror_mode": {
    "name": "ipython",
    "version": 3
   },
   "file_extension": ".py",
   "mimetype": "text/x-python",
   "name": "python",
   "nbconvert_exporter": "python",
   "pygments_lexer": "ipython3",
   "version": "3.11.6"
  }
 },
 "nbformat": 4,
 "nbformat_minor": 5
}
